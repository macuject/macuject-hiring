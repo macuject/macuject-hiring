{
 "cells": [
  {
   "cell_type": "markdown",
   "id": "fee72541-6c46-4a53-a86e-688e2ba8d661",
   "metadata": {},
   "source": [
    "## Macuject ML Challenge Task"
   ]
  },
  {
   "cell_type": "markdown",
   "id": "9ce276f1-f12d-4e0a-b22b-e9c29324f836",
   "metadata": {},
   "source": [
    "The task is to fit a model to the provided data as closely as possible.\n",
    "\n",
    "There are 2 datasets provided, a train and a validation set.\n",
    "Train a model on the train data, and measure its performance on the validation data. The final 'Y' column is the target variable.\n",
    "\n",
    "For the model training, use either PyTorch or Keras (any version).\n",
    "For your model, use a standard type of neural net.\n",
    "\n",
    "Measure its performance using the MAE (mean absolute error).\n",
    "A reasonably good perforance would be *MAE < 0.005*.\n",
    "\n",
    "Put your solution in a notebook in a repo in a Github account of your own (if you dont have an account you'll have to create own), and provide us a link to the repo. In your notebook show clearly the MAE you attain."
   ]
  },
  {
   "cell_type": "markdown",
   "id": "5707b20d-3f07-4cc7-ad74-6b00634fa133",
   "metadata": {},
   "source": [
    "Some example 'skeleton' code is provided below (in PyTorch) to help you start (if you're using Keras, thats fine, but you'll have to provide equivalent code in Keras).\n",
    "\n",
    "Please develop/ modify this as you wish, and provide the missing parts to complete model training/ evaluation. For example-\n",
    "- a model \n",
    "- an optimizer, loss function, etc ...\n",
    "- any other elements to \n",
    "    - process/ pre-process data\n",
    "    - understand, optimise the data, model performance, etc\n",
    "\n",
    "Show your output and results, and comment on them.\n",
    "\n",
    "Please indicate how much time you spent on this (this is only for our own purposes in adjusting the test).\n"
   ]
  },
  {
   "cell_type": "code",
   "execution_count": 1,
   "id": "fa57a94b-8e64-455d-ac5c-988a7b578195",
   "metadata": {},
   "outputs": [],
   "source": [
    "import torch\n",
    "from torch.utils.data import Dataset, DataLoader"
   ]
  },
  {
   "cell_type": "code",
   "execution_count": 14,
   "id": "8921347e-5cf7-4058-9515-74644370d8cf",
   "metadata": {},
   "outputs": [],
   "source": [
    "# load data"
   ]
  },
  {
   "cell_type": "code",
   "execution_count": 12,
   "id": "7ab87a70-a083-43c4-8ec7-8504a318c61b",
   "metadata": {},
   "outputs": [],
   "source": [
    "# [optional] process/ pre-process data"
   ]
  },
  {
   "cell_type": "code",
   "execution_count": 2,
   "id": "62ee26a2-9753-47e0-bbca-16492c125b5d",
   "metadata": {},
   "outputs": [],
   "source": [
    "class CustomDataset(Dataset):\n",
    "    def __init__(self, data, targets):\n",
    "        self.data = torch.from_numpy(data).float()\n",
    "        self.targets = torch.from_numpy(targets).float()\n",
    "        \n",
    "    def __getitem__(self, index):\n",
    "        x = self.data[index].reshape(-1)\n",
    "        y = self.targets[index].reshape(-1)\n",
    "        return x, y\n",
    "    \n",
    "    def __len__(self):\n",
    "        return len(self.data)"
   ]
  },
  {
   "cell_type": "code",
   "execution_count": null,
   "id": "44d7e69e-ffa7-4147-bab3-25625600ca73",
   "metadata": {},
   "outputs": [],
   "source": [
    "train_loader = DataLoader(CustomDataset(***), batch_size=25)\n",
    "val_loader = DataLoader(CustomDataset(***), batch_size=25)"
   ]
  },
  {
   "cell_type": "code",
   "execution_count": null,
   "id": "4da758f9-e55c-4e79-a93d-14a3a33bd8d5",
   "metadata": {},
   "outputs": [],
   "source": [
    "# define a neural net model\n",
    "class Net():\n",
    "    ***\n",
    "    ***\n",
    "\n",
    "model = Net()"
   ]
  },
  {
   "cell_type": "code",
   "execution_count": null,
   "id": "85f56f9b-ada5-4863-afa7-851e5a5e643f",
   "metadata": {},
   "outputs": [],
   "source": [
    "n_epochs = ***\n",
    "\n",
    "model.train()\n",
    "\n",
    "for epoch in range(n_epochs):\n",
    "    train_loss = 0.0\n",
    "    for data, target in train_loader:\n",
    "        optimizer.zero_grad()\n",
    "        output = model(data)\n",
    " \n",
    "        ***\n",
    "        ***\n",
    "    \n",
    "    \n",
    "    \n",
    "    AE = 0\n",
    "    with torch.no_grad():\n",
    "        for data, target in val_loader:\n",
    "            output = model(data)\n",
    "            AE += torch.sum(torch.abs(target - output)).item()\n",
    "    \n",
    "    MAE = AE / len(val_loader.dataset)\n",
    "    print('\\t\\tVal error: {:.6f}\\n'.format(MAE))"
   ]
  },
  {
   "cell_type": "code",
   "execution_count": null,
   "id": "4de5cf01-06aa-4be3-8745-490ff1fd5b22",
   "metadata": {},
   "outputs": [],
   "source": []
  }
 ],
 "metadata": {
  "kernelspec": {
   "display_name": "Python 3 (ipykernel)",
   "language": "python",
   "name": "python3"
  },
  "language_info": {
   "codemirror_mode": {
    "name": "ipython",
    "version": 3
   },
   "file_extension": ".py",
   "mimetype": "text/x-python",
   "name": "python",
   "nbconvert_exporter": "python",
   "pygments_lexer": "ipython3",
   "version": "3.8.10"
  }
 },
 "nbformat": 4,
 "nbformat_minor": 5
}
